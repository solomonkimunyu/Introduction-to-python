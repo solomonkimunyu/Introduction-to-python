{
 "cells": [
  {
   "cell_type": "code",
   "execution_count": null,
   "metadata": {},
   "outputs": [],
   "source": [
    "# A little guessing game for numbers\n",
    "import random\n",
    "n = 20\n",
    "to_be_guessed = int(n * random.random()) + 1\n",
    "guess = 0\n",
    "while guess != to_be_guessed:\n",
    "    guess =int(input(\"New number:\"))\n",
    "    if guess > 0:\n",
    "        if guess > to_be_guessed:\n",
    "            print(\"Number too large\")\n",
    "        elif guess < to_be_guessed:\n",
    "            print(\"Number too small\")\n",
    "    else:\n",
    "        print(\"Sorry that you're giving up!\")\n",
    "        break\n",
    "else:\n",
    "    print(\"Congratulations. You made it!\")"
   ]
  },
  {
   "cell_type": "code",
   "execution_count": 3,
   "metadata": {},
   "outputs": [
    {
     "name": "stdout",
     "output_type": "stream",
     "text": [
      "Welcome to Solomon Bank of Africa ATM\n",
      "Please enter your four digit pin1234\n",
      "You entered your pin correctly\n",
      "\n",
      "Please press 1 for you balance\n",
      "\n",
      "Please press 2 to make a withdrawal\n",
      "\n",
      "Please press 3 to pay in\n",
      "\n",
      "Please press 4 to return card\n",
      "\n",
      "What would you like to choose?3\n",
      "How much would you like to pay in?407\n",
      "\n",
      "Your balance is now A$ 474.14\n",
      "Would you like to go back?r\n",
      "Please press 1 for you balance\n",
      "\n",
      "Please press 2 to make a withdrawal\n",
      "\n",
      "Please press 3 to pay in\n",
      "\n",
      "Please press 4 to return card\n",
      "\n",
      "What would you like to choose?2\n",
      "Please Enter a correct number. \n",
      "\n",
      "Please press 1 for you balance\n",
      "\n",
      "Please press 2 to make a withdrawal\n",
      "\n",
      "Please press 3 to pay in\n",
      "\n",
      "Please press 4 to return card\n",
      "\n",
      "What would you like to choose?4\n",
      "Please wait whilst your card is returned...\n",
      "\n",
      "Thank you for your service\n",
      "Please enter your four digit pin1\n",
      "Incorrect password\n",
      "Please enter your four digit pin123\n",
      "Incorrect password\n",
      "Please enter your four digit pin12\n",
      "Incorrect password\n",
      "\n",
      "No more tries\n"
     ]
    }
   ],
   "source": [
    "#Using a loop inside a loop in called nested loop\n",
    "# Nested for loop\n",
    "print('Welcome to Solomon Bank of Africa ATM')\n",
    "restart=('y')\n",
    "chances = 3\n",
    "balance = 67.14\n",
    "while chances >= 0:\n",
    "    pin = int(input('Please enter your four digit pin'))\n",
    "    if pin == (1234):\n",
    "        print('You entered your pin correctly\\n')\n",
    "        while restart not in ('n','NO','no','N'):\n",
    "            print('Please press 1 for you balance\\n')\n",
    "            print('Please press 2 to make a withdrawal\\n')\n",
    "            print('Please press 3 to pay in\\n')\n",
    "            print('Please press 4 to return card\\n')\n",
    "            option = int(input('What would you like to choose?'))\n",
    "            if option == 1:\n",
    "                print('Your balance is A$',balance, '\\n')\n",
    "                restart = input('Would you like to go back?')\n",
    "                if restart in {'n','NO','no','N'}:\n",
    "                    print('Thank you')\n",
    "                    break\n",
    "           \n",
    "                \n",
    "            elif option == 3:\n",
    "                pay_in = float(input('How much would you like to pay in?'))\n",
    "                balance = balance + pay_in\n",
    "                print ('\\nYour balance is now A$',balance)\n",
    "                restart = input('Would you like to go back?')\n",
    "                if restart in ('n','NO','no','N'):\n",
    "                    print('Thank you')\n",
    "                    break\n",
    "            elif option == 4:\n",
    "                print('Please wait whilst your card is returned...\\n')\n",
    "                print('Thank you for your service')\n",
    "                break\n",
    "            else:\n",
    "                print('Please Enter a correct number. \\n')\n",
    "                restart = ('y')\n",
    "    elif pin != ('1234'):\n",
    "        print('Incorrect password')\n",
    "        chances = chances - 1\n",
    "        if chances == 0:\n",
    "            print('\\nNo more tries')\n",
    "            break"
   ]
  },
  {
   "cell_type": "markdown",
   "metadata": {},
   "source": [
    "# PATTERNS"
   ]
  },
  {
   "cell_type": "code",
   "execution_count": 1,
   "metadata": {},
   "outputs": [
    {
     "name": "stdout",
     "output_type": "stream",
     "text": [
      "Baptism \n",
      "\n",
      "Baptism Baptism \n",
      "\n",
      "Baptism Baptism Baptism \n",
      "\n",
      "Baptism Baptism Baptism Baptism \n",
      "\n",
      "Baptism Baptism Baptism Baptism Baptism \n",
      "\n",
      "Baptism Baptism Baptism Baptism Baptism Baptism \n",
      "\n",
      "Baptism Baptism Baptism Baptism Baptism Baptism Baptism \n",
      "\n",
      "Baptism Baptism Baptism Baptism Baptism Baptism Baptism Baptism \n",
      "\n",
      "Baptism Baptism Baptism Baptism Baptism Baptism Baptism Baptism Baptism \n",
      "\n",
      "Baptism Baptism Baptism Baptism Baptism Baptism Baptism Baptism Baptism Baptism \n",
      "\n"
     ]
    }
   ],
   "source": [
    "# Rigth pyramid\n",
    "def pattern(n):\n",
    "    for i in range(0,n):\n",
    "        for j in range(0, i+ 1):\n",
    "            print(\"Baptism \", end=\"\")\n",
    "        print(\"\\n\")\n",
    "pattern(10)"
   ]
  },
  {
   "cell_type": "code",
   "execution_count": 16,
   "metadata": {},
   "outputs": [
    {
     "name": "stdout",
     "output_type": "stream",
     "text": [
      "                  * \n",
      "\n",
      "                * * \n",
      "\n",
      "              * * * \n",
      "\n",
      "            * * * * \n",
      "\n",
      "          * * * * * \n",
      "\n",
      "        * * * * * * \n",
      "\n",
      "      * * * * * * * \n",
      "\n",
      "    * * * * * * * * \n",
      "\n",
      "  * * * * * * * * * \n",
      "\n",
      "* * * * * * * * * * \n",
      "\n"
     ]
    }
   ],
   "source": [
    "#Left pyramid\n",
    "def pattern(n):\n",
    "    k =2*n -2\n",
    "    for i in range(0,n):\n",
    "        for j in range(0,k):\n",
    "            print(end=\" \")\n",
    "        k = k - 2\n",
    "        for j in range(0,i+1):\n",
    "            print(\"* \", end= \"\")\n",
    "        print(\"\\n\")\n",
    "pattern(10)"
   ]
  },
  {
   "cell_type": "code",
   "execution_count": 11,
   "metadata": {},
   "outputs": [
    {
     "name": "stdout",
     "output_type": "stream",
     "text": [
      "Church Church Church Church Church Church Church Church \n",
      "\n",
      "Church Church Church Church Church Church Church \n",
      "\n",
      "Church Church Church Church Church Church \n",
      "\n",
      "Church Church Church Church Church \n",
      "\n",
      "Church Church Church Church \n",
      "\n",
      "Church Church Church \n",
      "\n",
      "Church Church \n",
      "\n",
      "Church \n",
      "\n"
     ]
    }
   ],
   "source": [
    "# Downward half pyramid\n",
    "def pattern(n):\n",
    "    for i in range(n,-1,-1):\n",
    "        for j in range(0,i+1):\n",
    "            print(\"Church \", end=\"\")\n",
    "        print(\"\\n\")\n",
    "    \n",
    "pattern(7)\n"
   ]
  },
  {
   "cell_type": "code",
   "execution_count": 23,
   "metadata": {},
   "outputs": [
    {
     "name": "stdout",
     "output_type": "stream",
     "text": [
      "                  Forgive \n",
      "                 Forgive Forgive \n",
      "                Forgive Forgive Forgive \n",
      "               Forgive Forgive Forgive Forgive \n",
      "              Forgive Forgive Forgive Forgive Forgive \n",
      "             Forgive Forgive Forgive Forgive Forgive Forgive \n",
      "            Forgive Forgive Forgive Forgive Forgive Forgive Forgive \n",
      "           Forgive Forgive Forgive Forgive Forgive Forgive Forgive Forgive \n",
      "          Forgive Forgive Forgive Forgive Forgive Forgive Forgive Forgive Forgive \n",
      "         Forgive Forgive Forgive Forgive Forgive Forgive Forgive Forgive Forgive Forgive \n",
      "        Forgive Forgive Forgive Forgive Forgive Forgive Forgive Forgive Forgive Forgive Forgive \n",
      "         Forgive Forgive Forgive Forgive Forgive Forgive Forgive Forgive Forgive Forgive \n",
      "          Forgive Forgive Forgive Forgive Forgive Forgive Forgive Forgive Forgive \n",
      "           Forgive Forgive Forgive Forgive Forgive Forgive Forgive Forgive \n",
      "            Forgive Forgive Forgive Forgive Forgive Forgive Forgive \n",
      "             Forgive Forgive Forgive Forgive Forgive Forgive \n",
      "              Forgive Forgive Forgive Forgive Forgive \n",
      "               Forgive Forgive Forgive Forgive \n",
      "                Forgive Forgive Forgive \n",
      "                 Forgive Forgive \n",
      "                  Forgive \n"
     ]
    }
   ],
   "source": [
    "# Diamond pattern\n",
    "def pattern(n):\n",
    "    k = 2 * n - 2\n",
    "    for i in range(0,n):\n",
    "        for j in range(0,k):\n",
    "            print(end=\" \")\n",
    "        k = k - 1\n",
    "        for j in range(0 ,i + 1):\n",
    "            print(\"Forgive \", end=\"\")\n",
    "        print(\"\\r\")\n",
    "    k = n - 2\n",
    "    for i in range(n, -1, -1):\n",
    "        for j in range(k,0,-1):\n",
    "            print(end=\" \")\n",
    "        k = k + 1\n",
    "        for j in range(0, i + 1):\n",
    "            print(\"Forgive \", end=\"\")\n",
    "        print(\"\\r\")\n",
    "pattern(10)"
   ]
  },
  {
   "cell_type": "code",
   "execution_count": 27,
   "metadata": {},
   "outputs": [
    {
     "name": "stdout",
     "output_type": "stream",
     "text": [
      " \n",
      " \n",
      "* \n",
      " \n",
      " \n",
      " \n",
      "* \n",
      " \n",
      "* \n",
      " \n",
      "* \n",
      " \n",
      " \n",
      " \n",
      "* \n",
      " \n",
      "* \n",
      " \n",
      "* \n",
      " \n",
      " \n",
      " \n",
      "* \n",
      " \n",
      " \n"
     ]
    }
   ],
   "source": [
    "# Diamond star pattern\n",
    "for i in range(5):\n",
    "    for j in range(5):\n",
    "        if i + j == 2 or i - j == 2 or i + j == 6 or j - i == 2:\n",
    "            print(\"* \", end=\"\")\n",
    "        else:\n",
    "            print(end=\" \")\n",
    "        print()"
   ]
  },
  {
   "cell_type": "markdown",
   "metadata": {},
   "source": [
    "# FILE HANDLING"
   ]
  },
  {
   "cell_type": "code",
   "execution_count": 35,
   "metadata": {},
   "outputs": [
    {
     "name": "stdout",
     "output_type": "stream",
     "text": [
      "            7      7 7 7 7 7 7 7 7 \n",
      "\n",
      "      8 8 8 8 8 8 8 \n",
      "\n",
      "       9 9 9 9 9 9 \n",
      "\n",
      "        10 10 10 10 10 \n",
      "\n",
      "         11 11 11 11 \n",
      "\n",
      "          12 12 12 \n",
      "\n",
      "           13 13 \n",
      "\n",
      "            14 \n",
      "\n",
      "             15 15      7 7 7 7 7 7 7 7 \n",
      "\n",
      "      8 8 8 8 8 8 8 \n",
      "\n",
      "       9 9 9 9 9 9 \n",
      "\n",
      "        10 10 10 10 10 \n",
      "\n",
      "         11 11 11 11 \n",
      "\n",
      "          12 12 12 \n",
      "\n",
      "           13 13 \n",
      "\n",
      "            14 \n",
      "\n",
      "             15 15 15      7 7 7 7 7 7 7 7 \n",
      "\n",
      "      8 8 8 8 8 8 8 \n",
      "\n",
      "       9 9 9 9 9 9 \n",
      "\n",
      "        10 10 10 10 10 \n",
      "\n",
      "         11 11 11 11 \n",
      "\n",
      "          12 12 12 \n",
      "\n",
      "           13 13 \n",
      "\n",
      "            14 \n",
      "\n",
      "             15 15 15 15      7 7 7 7 7 7 7 7 \n",
      "\n",
      "      8 8 8 8 8 8 8 \n",
      "\n",
      "       9 9 9 9 9 9 \n",
      "\n",
      "        10 10 10 10 10 \n",
      "\n",
      "         11 11 11 11 \n",
      "\n",
      "          12 12 12 \n",
      "\n",
      "           13 13 \n",
      "\n",
      "            14 \n",
      "\n",
      "             15 15 15 15 15      7 7 7 7 7 7 7 7 \n",
      "\n",
      "      8 8 8 8 8 8 8 \n",
      "\n",
      "       9 9 9 9 9 9 \n",
      "\n",
      "        10 10 10 10 10 \n",
      "\n",
      "         11 11 11 11 \n",
      "\n",
      "          12 12 12 \n",
      "\n",
      "           13 13 \n",
      "\n",
      "            14 \n",
      "\n",
      "             15 15 15 15 15 15      7 7 7 7 7 7 7 7 \n",
      "\n",
      "      8 8 8 8 8 8 8 \n",
      "\n",
      "       9 9 9 9 9 9 \n",
      "\n",
      "        10 10 10 10 10 \n",
      "\n",
      "         11 11 11 11 \n",
      "\n",
      "          12 12 12 \n",
      "\n",
      "           13 13 \n",
      "\n",
      "            14 \n",
      "\n",
      "             15 15 15 15 15 15 15      7 7 7 7 7 7 7 7 \n",
      "\n",
      "      8 8 8 8 8 8 8 \n",
      "\n",
      "       9 9 9 9 9 9 \n",
      "\n",
      "        10 10 10 10 10 \n",
      "\n",
      "         11 11 11 11 \n",
      "\n",
      "          12 12 12 \n",
      "\n",
      "           13 13 \n",
      "\n",
      "            14 \n",
      "\n"
     ]
    }
   ],
   "source": [
    "# dIAMOND SHAPE WITH CHARACTERS\n",
    "def pattern(n):\n",
    "    k = 2* n - 2\n",
    "    x = 6\n",
    "    for i in range(0,n):\n",
    "        ch =chr(x)\n",
    "        x = x + 1\n",
    "        for j in range(0,k):\n",
    "            print(end=\" \")\n",
    "        k = k - 1\n",
    "        for j in range(0, i + 1):\n",
    "            print(x, end=\" \")\n",
    "        k = n - 2\n",
    "        x = 6\n",
    "        for i in range(n, -1, -1):\n",
    "            ch = chr(x)\n",
    "            x = x + 1\n",
    "            for j in range(k,0, -1):\n",
    "                print(end=\" \")\n",
    "            k = k + 1\n",
    "            for j in range(0, i + 1):\n",
    "                print(x,end=\" \")\n",
    "            print(\"\\n\")\n",
    "            \n",
    "pattern(7)\n",
    "                \n",
    "         "
   ]
  },
  {
   "cell_type": "markdown",
   "metadata": {},
   "source": [
    " FILE HANDLING"
   ]
  },
  {
   "cell_type": "code",
   "execution_count": 38,
   "metadata": {},
   "outputs": [],
   "source": [
    "# python input\n",
    "# Command line argument\n",
    "# Program data\n",
    "# Files include: Images, texts, executable, audio, ...\n",
    "# Binary and text files\n",
    "# File handling is an important part of any web application\n",
    "# CRUD operations ie Create, Reading, Updating and Deleting\n",
    "# The key function for working with files in python is open() function\n",
    "# open(): Filename and mode\n",
    "# open(filename.mode)\n",
    "# Read, append, write, create mode\n",
    "# Text mode and binary mode\n",
    "# f = open('demofile.txt')\n",
    "# f = open('demofile.txt')\n",
    "# file.read()\n",
    "# print file.read()\n",
    "# print file.read(5): this tells the intepreter to read the first 5 characters and print it in the screen\n"
   ]
  },
  {
   "cell_type": "code",
   "execution_count": 46,
   "metadata": {},
   "outputs": [
    {
     "ename": "SyntaxError",
     "evalue": "invalid syntax (<ipython-input-46-5bc8d9537394>, line 2)",
     "output_type": "error",
     "traceback": [
      "\u001b[0;36m  File \u001b[0;32m\"<ipython-input-46-5bc8d9537394>\"\u001b[0;36m, line \u001b[0;32m2\u001b[0m\n\u001b[0;31m    f = open('r'/media/root/9A04E9A504E9851B1/data/housing.csv'')\u001b[0m\n\u001b[0m                                            ^\u001b[0m\n\u001b[0;31mSyntaxError\u001b[0m\u001b[0;31m:\u001b[0m invalid syntax\n"
     ]
    }
   ],
   "source": [
    "import os\n",
    "f = open('r'/media/root/9A04E9A504E9851B1/data/housing.csv'')"
   ]
  },
  {
   "cell_type": "code",
   "execution_count": 49,
   "metadata": {},
   "outputs": [
    {
     "ename": "FileNotFoundError",
     "evalue": "[Errno 2] No such file or directory: '/root/Videos/demofile.txt'",
     "output_type": "error",
     "traceback": [
      "\u001b[0;31m---------------------------------------------------------------------------\u001b[0m",
      "\u001b[0;31mFileNotFoundError\u001b[0m                         Traceback (most recent call last)",
      "\u001b[0;32m<ipython-input-49-45d8cc63ba34>\u001b[0m in \u001b[0;36m<module>\u001b[0;34m()\u001b[0m\n\u001b[1;32m      1\u001b[0m \u001b[0;32mimport\u001b[0m \u001b[0mos\u001b[0m\u001b[0;34m\u001b[0m\u001b[0;34m\u001b[0m\u001b[0m\n\u001b[0;32m----> 2\u001b[0;31m \u001b[0mfile\u001b[0m \u001b[0;34m=\u001b[0m \u001b[0mopen\u001b[0m\u001b[0;34m(\u001b[0m\u001b[0;34m\"/root/Videos/demofile.txt\"\u001b[0m\u001b[0;34m)\u001b[0m\u001b[0;34m\u001b[0m\u001b[0;34m\u001b[0m\u001b[0m\n\u001b[0m",
      "\u001b[0;31mFileNotFoundError\u001b[0m: [Errno 2] No such file or directory: '/root/Videos/demofile.txt'"
     ]
    }
   ],
   "source": [
    "import os\n",
    "file = open(\"/root/Videos/demofile.txt\")\n",
    "file.close() # Check examples on windows os"
   ]
  },
  {
   "cell_type": "code",
   "execution_count": 52,
   "metadata": {},
   "outputs": [
    {
     "ename": "UnsupportedOperation",
     "evalue": "not readable",
     "output_type": "error",
     "traceback": [
      "\u001b[0;31m---------------------------------------------------------------------------\u001b[0m",
      "\u001b[0;31mUnsupportedOperation\u001b[0m                      Traceback (most recent call last)",
      "\u001b[0;32m<ipython-input-52-99876cd523fe>\u001b[0m in \u001b[0;36m<module>\u001b[0;34m()\u001b[0m\n\u001b[1;32m      1\u001b[0m \u001b[0;32mimport\u001b[0m \u001b[0mos\u001b[0m\u001b[0;34m\u001b[0m\u001b[0;34m\u001b[0m\u001b[0m\n\u001b[1;32m      2\u001b[0m \u001b[0mfile\u001b[0m \u001b[0;34m=\u001b[0m \u001b[0mopen\u001b[0m\u001b[0;34m(\u001b[0m\u001b[0;34m\"/root/Videos/demofile.txt\"\u001b[0m\u001b[0;34m,\u001b[0m\u001b[0;34m'w'\u001b[0m\u001b[0;34m)\u001b[0m\u001b[0;34m\u001b[0m\u001b[0;34m\u001b[0m\u001b[0m\n\u001b[0;32m----> 3\u001b[0;31m \u001b[0mprint\u001b[0m\u001b[0;34m(\u001b[0m\u001b[0mfile\u001b[0m\u001b[0;34m.\u001b[0m\u001b[0mread\u001b[0m\u001b[0;34m(\u001b[0m\u001b[0;34m)\u001b[0m\u001b[0;34m)\u001b[0m\u001b[0;34m\u001b[0m\u001b[0;34m\u001b[0m\u001b[0m\n\u001b[0m\u001b[1;32m      4\u001b[0m \u001b[0mfile\u001b[0m\u001b[0;34m.\u001b[0m\u001b[0mclose\u001b[0m\u001b[0;34m(\u001b[0m\u001b[0;34m)\u001b[0m\u001b[0;34m\u001b[0m\u001b[0;34m\u001b[0m\u001b[0m\n",
      "\u001b[0;31mUnsupportedOperation\u001b[0m: not readable"
     ]
    }
   ],
   "source": [
    "import os\n",
    "file = open(\"/root/Videos/demofile.txt\",'w')\n",
    "print(file.read())\n",
    "file.close()"
   ]
  },
  {
   "cell_type": "markdown",
   "metadata": {},
   "source": [
    "# Decorator"
   ]
  },
  {
   "cell_type": "markdown",
   "metadata": {},
   "source": [
    "## Functions in Python"
   ]
  },
  {
   "cell_type": "code",
   "execution_count": 3,
   "metadata": {},
   "outputs": [
    {
     "name": "stdout",
     "output_type": "stream",
     "text": [
      "Hello(name)\n",
      "(name), how are you doing?\n"
     ]
    }
   ],
   "source": [
    "# First-class.# In python, everything is treated as an object including all the data types, funtions too. Therefore, a fucntion is also known as a first class object and can be passed around as arguments\n",
    "# Inner-function. It is possible to define fucntions inside a function. That function is called an inner fuction\n",
    "def func1(name):\n",
    "    return f\"Hello(name)\"\n",
    "def func2(name):\n",
    "    return f\"(name), how are you doing?\"\n",
    "def func3(func4):\n",
    "    return func4(\"Dear learner\")\n",
    "print(func3(func1))\n",
    "print(func3(func2))\n",
    "    \n",
    "\n"
   ]
  },
  {
   "cell_type": "code",
   "execution_count": 5,
   "metadata": {},
   "outputs": [
    {
     "name": "stdout",
     "output_type": "stream",
     "text": [
      "first function\n",
      "second child function\n",
      "first child function\n"
     ]
    }
   ],
   "source": [
    "# A function inside a function/ an inner function\n",
    "def func():\n",
    "    print(\"first function\")\n",
    "    def func1():\n",
    "        print(\"first child function\")\n",
    "    def func2():\n",
    "        print(\"second child function\")\n",
    "    func2()\n",
    "    func1()\n",
    "func()"
   ]
  },
  {
   "cell_type": "code",
   "execution_count": 11,
   "metadata": {},
   "outputs": [],
   "source": [
    "# Returning a function inside another function ie taking a funtion as an argument for another function\n",
    "def func(n):\n",
    "    def func1():\n",
    "        return \"Python\"\n",
    "    def func2():\n",
    "        return \"edureka\"\n",
    "    if n == 1:\n",
    "        return func1\n",
    "    else:\n",
    "        return func2\n",
    "    a = func1()\n",
    "    a = func2()\n",
    "    print(a())\n",
    "    print(b())\n"
   ]
  },
  {
   "cell_type": "code",
   "execution_count": 12,
   "metadata": {},
   "outputs": [],
   "source": [
    "# Returning a function inside another function ie taking a funtion as an argument for another function\n",
    "def func(n):\n",
    "    def func1():\n",
    "        return \"Python\"\n",
    "    def func2():\n",
    "        return \"edureka\"\n",
    "    if n == 1:\n",
    "        return func1\n",
    "    else:\n",
    "        return func2\n",
    "    a = func()\n",
    "    a = func2()\n",
    "    print(a())\n",
    "    print(b())\n"
   ]
  },
  {
   "cell_type": "markdown",
   "metadata": {},
   "source": [
    "### Decorators in python"
   ]
  },
  {
   "cell_type": "code",
   "execution_count": 22,
   "metadata": {},
   "outputs": [
    {
     "name": "stdout",
     "output_type": "stream",
     "text": [
      "good\n"
     ]
    }
   ],
   "source": [
    "# Python decorator with arguments\n",
    "# Timing functions\n",
    "def function1(function):\n",
    "    def wrapper(*arg, **kwargs):\n",
    "        print(\"Good evening\")\n",
    "        function(*args, **kwargs)\n",
    "        print(\"Welcome to data science\")\n",
    "    return wrapper\n",
    "function1\n",
    "def function2(name):\n",
    "    print(f\"{name}\")\n",
    "function2(\"good\")\n"
   ]
  },
  {
   "cell_type": "code",
   "execution_count": 20,
   "metadata": {},
   "outputs": [
    {
     "name": "stdout",
     "output_type": "stream",
     "text": [
      "This is great\n"
     ]
    }
   ],
   "source": [
    "# Returning values from a decorated function\n",
    "def function1(function):\n",
    "    def wrapper(*args, **kwargs):\n",
    "        print(\"This is great\")\n",
    "    return wrapper \n",
    "@function1\n",
    "def function2(name):\n",
    "    print(f\"{name}\")\n",
    "function2(\"python\")"
   ]
  },
  {
   "cell_type": "markdown",
   "metadata": {},
   "source": [
    "### Fancy Decorators"
   ]
  },
  {
   "cell_type": "code",
   "execution_count": 26,
   "metadata": {},
   "outputs": [
    {
     "ename": "TypeError",
     "evalue": "Square() takes no arguments",
     "output_type": "error",
     "traceback": [
      "\u001b[0;31m---------------------------------------------------------------------------\u001b[0m",
      "\u001b[0;31mTypeError\u001b[0m                                 Traceback (most recent call last)",
      "\u001b[0;32m<ipython-input-26-920c60312524>\u001b[0m in \u001b[0;36m<module>\u001b[0;34m()\u001b[0m\n\u001b[1;32m     19\u001b[0m     \u001b[0;32mdef\u001b[0m \u001b[0munit_square\u001b[0m\u001b[0;34m(\u001b[0m\u001b[0mcls\u001b[0m\u001b[0;34m)\u001b[0m\u001b[0;34m:\u001b[0m\u001b[0;34m\u001b[0m\u001b[0;34m\u001b[0m\u001b[0m\n\u001b[1;32m     20\u001b[0m         \u001b[0;32mreturn\u001b[0m \u001b[0mcls\u001b[0m\u001b[0;34m(\u001b[0m\u001b[0;36m1\u001b[0m\u001b[0;34m)\u001b[0m\u001b[0;34m\u001b[0m\u001b[0;34m\u001b[0m\u001b[0m\n\u001b[0;32m---> 21\u001b[0;31m \u001b[0ms\u001b[0m \u001b[0;34m=\u001b[0m \u001b[0mSquare\u001b[0m\u001b[0;34m(\u001b[0m\u001b[0;36m5\u001b[0m\u001b[0;34m)\u001b[0m\u001b[0;34m\u001b[0m\u001b[0;34m\u001b[0m\u001b[0m\n\u001b[0m\u001b[1;32m     22\u001b[0m \u001b[0mprint\u001b[0m\u001b[0;34m(\u001b[0m\u001b[0ms\u001b[0m\u001b[0;34m.\u001b[0m\u001b[0mside\u001b[0m\u001b[0;34m)\u001b[0m\u001b[0;34m\u001b[0m\u001b[0;34m\u001b[0m\u001b[0m\n\u001b[1;32m     23\u001b[0m \u001b[0mprint\u001b[0m\u001b[0;34m(\u001b[0m\u001b[0ms\u001b[0m\u001b[0;34m.\u001b[0m\u001b[0marea\u001b[0m\u001b[0;34m)\u001b[0m\u001b[0;34m\u001b[0m\u001b[0;34m\u001b[0m\u001b[0m\n",
      "\u001b[0;31mTypeError\u001b[0m: Square() takes no arguments"
     ]
    }
   ],
   "source": [
    "# Class decorators\n",
    "# Decorating a method inside a class\n",
    "class Square:\n",
    "    def _init_(self,side):\n",
    "        self._side = side\n",
    "    @property\n",
    "    def side(self):\n",
    "        return self._side\n",
    "    @side.setter\n",
    "    def side(self,value):\n",
    "        if value >= 0:\n",
    "            self._side = value\n",
    "        else:\n",
    "            print(\"error\")\n",
    "    @property\n",
    "    def area(self):\n",
    "        return self._side **2\n",
    "    @classmethod\n",
    "    def unit_Square(cls):\n",
    "        return cls(1)\n",
    "s = Square(5)\n",
    "print(s.side)\n",
    "print(s.area)"
   ]
  },
  {
   "cell_type": "code",
   "execution_count": 28,
   "metadata": {},
   "outputs": [
    {
     "ename": "SyntaxError",
     "evalue": "unexpected EOF while parsing (<ipython-input-28-4a9fc5071baf>, line 13)",
     "output_type": "error",
     "traceback": [
      "\u001b[0;36m  File \u001b[0;32m\"<ipython-input-28-4a9fc5071baf>\"\u001b[0;36m, line \u001b[0;32m13\u001b[0m\n\u001b[0;31m    \u001b[0m\n\u001b[0m    ^\u001b[0m\n\u001b[0;31mSyntaxError\u001b[0m\u001b[0;31m:\u001b[0m unexpected EOF while parsing\n"
     ]
    }
   ],
   "source": [
    "import functools\n",
    "def singleton(cls):\n",
    "    @functools.wraps(cls)\n",
    "    def wrapper(*args, **kwargs):\n",
    "        if not wrapper.instance:\n",
    "            wrapper.instance = cls(*args, *kwargs)\n",
    "        return wrapper.instance\n",
    "    wrapper.instance = None\n",
    "    return wrapper\n",
    "\n",
    "@singleton\n",
    "class one:\n",
    "    "
   ]
  },
  {
   "cell_type": "markdown",
   "metadata": {},
   "source": [
    "Nesting decorators"
   ]
  },
  {
   "cell_type": "code",
   "execution_count": 29,
   "metadata": {},
   "outputs": [],
   "source": [
    "# Understand first decorators"
   ]
  },
  {
   "cell_type": "markdown",
   "metadata": {},
   "source": [
    "# Lambda"
   ]
  },
  {
   "cell_type": "code",
   "execution_count": 30,
   "metadata": {},
   "outputs": [],
   "source": [
    "# Python lambda functions are anonymous or nameless functions. Lambda is not a name but a keyword\n",
    "\n"
   ]
  },
  {
   "cell_type": "markdown",
   "metadata": {},
   "source": [
    "Why are they used?\n",
    "1.One time use - Also known as throw-away functions as they are needed just once\n",
    "2.I/O of other functions - They are also passed as inputs or returned as outputs of other higher-ordered functions\n",
    "3. Reduce the code size. The body of lambda functions is written in single line"
   ]
  },
  {
   "cell_type": "markdown",
   "metadata": {},
   "source": [
    "#### Writing anonymous functions"
   ]
  },
  {
   "cell_type": "raw",
   "metadata": {},
   "source": [
    "Lambda function is created using the lambda operator"
   ]
  },
  {
   "cell_type": "markdown",
   "metadata": {},
   "source": [
    "SYNTAX:\n",
    "Lambda arguments: expression\n",
    "Lambda: \"Specify the purpose\"\n",
    "Lambda a1: \"Specify use of a1\"\n",
    "Lambda a1..n: \"Specify use of a1...n\""
   ]
  },
  {
   "cell_type": "code",
   "execution_count": 31,
   "metadata": {},
   "outputs": [
    {
     "data": {
      "text/plain": [
       "9"
      ]
     },
     "execution_count": 31,
     "metadata": {},
     "output_type": "execute_result"
    }
   ],
   "source": [
    "#Lambda arguments: expression\n",
    "x=lambda a: a*a\n",
    "x(3)"
   ]
  },
  {
   "cell_type": "code",
   "execution_count": 32,
   "metadata": {},
   "outputs": [
    {
     "data": {
      "text/plain": [
       "9"
      ]
     },
     "execution_count": 32,
     "metadata": {},
     "output_type": "execute_result"
    }
   ],
   "source": [
    "# A normal function\n",
    "def new(a):\n",
    "    return a*a\n",
    "new(3)"
   ]
  },
  {
   "cell_type": "markdown",
   "metadata": {},
   "source": [
    "Lambda functions are shorter"
   ]
  },
  {
   "cell_type": "markdown",
   "metadata": {},
   "source": [
    "##### Anonymous functions with user defined functions"
   ]
  },
  {
   "cell_type": "markdown",
   "metadata": {},
   "source": [
    "Lambda functions are best used within other higher- order functions"
   ]
  },
  {
   "cell_type": "code",
   "execution_count": 33,
   "metadata": {},
   "outputs": [
    {
     "name": "stdout",
     "output_type": "stream",
     "text": [
      "12\n"
     ]
    }
   ],
   "source": [
    "# We use def keyword to create functions in python\n",
    "def A(x):\n",
    "    return(lambda y:x+y) # y is argument and x+y is the expression\n",
    "t=A(4)\n",
    "print(t(8)) #We are printing x+y"
   ]
  },
  {
   "cell_type": "code",
   "execution_count": 35,
   "metadata": {},
   "outputs": [
    {
     "name": "stdout",
     "output_type": "stream",
     "text": [
      "12\n",
      "12\n"
     ]
    }
   ],
   "source": [
    "def A(x):\n",
    "    return(lambda y: x + y)\n",
    "t=A(4)\n",
    "print(t(8))\n",
    "u=A(7)\n",
    "print(u(5))"
   ]
  },
  {
   "cell_type": "markdown",
   "metadata": {},
   "source": [
    "#### Using Lamda functions within filter methods"
   ]
  },
  {
   "cell_type": "markdown",
   "metadata": {},
   "source": [
    "Used to filter the given iterables(lists,sets,etc) with the help of another function passed as an argument to test all the elements to be true or false"
   ]
  },
  {
   "cell_type": "code",
   "execution_count": 38,
   "metadata": {},
   "outputs": [
    {
     "name": "stdout",
     "output_type": "stream",
     "text": [
      "[6]\n"
     ]
    }
   ],
   "source": [
    "mylist=[1,2,3,4,5,6,7,8,9] # The filter method will check if the expression in the lambda functions are either true or false\n",
    "newlist=list(filter(lambda a:(a/3==2),mylist)) #Syntax filter(filter,iterables)\n",
    "print(newlist)"
   ]
  },
  {
   "cell_type": "markdown",
   "metadata": {},
   "source": [
    "When you divide the above values in the list, only six will give you 3"
   ]
  },
  {
   "cell_type": "markdown",
   "metadata": {},
   "source": [
    "#### Lambda within map()"
   ]
  },
  {
   "cell_type": "markdown",
   "metadata": {},
   "source": [
    "map(): applies a given function to all the iterables and returns a new list"
   ]
  },
  {
   "cell_type": "markdown",
   "metadata": {},
   "source": [
    "map(function, iterables)"
   ]
  },
  {
   "cell_type": "code",
   "execution_count": 40,
   "metadata": {},
   "outputs": [
    {
     "name": "stdout",
     "output_type": "stream",
     "text": [
      "[True, True, True, True, True, False, True, True, True]\n"
     ]
    }
   ],
   "source": [
    "mylist=[1,2,3,4,5,6,7,8,9]\n",
    "p=list(map(lambda a: (a/3!=2),mylist))\n",
    "print(p) # It checks whether the above conditions are true"
   ]
  },
  {
   "cell_type": "markdown",
   "metadata": {},
   "source": [
    "#### Lambda within reduce()"
   ]
  },
  {
   "cell_type": "markdown",
   "metadata": {},
   "source": [
    "reduce(): Applies some other functions to a list of elements that are passes as a parameter to it and finally returns a single value"
   ]
  },
  {
   "cell_type": "markdown",
   "metadata": {},
   "source": [
    "reduce(function, sequence)"
   ]
  },
  {
   "cell_type": "code",
   "execution_count": 42,
   "metadata": {},
   "outputs": [
    {
     "data": {
      "text/plain": [
       "221"
      ]
     },
     "execution_count": 42,
     "metadata": {},
     "output_type": "execute_result"
    }
   ],
   "source": [
    "from functools import reduce \n",
    "reduce(lambda a,b:a+b,[23,56,43,98,1]) # ie 23+56=79, 79+43=122, 122+98=220, 220+1=221"
   ]
  },
  {
   "cell_type": "markdown",
   "metadata": {},
   "source": [
    "You can also  use: import functools or from functools import *"
   ]
  },
  {
   "cell_type": "markdown",
   "metadata": {},
   "source": [
    "## Lambda for algebra"
   ]
  },
  {
   "cell_type": "markdown",
   "metadata": {},
   "source": [
    "### Linear equations"
   ]
  },
  {
   "cell_type": "code",
   "execution_count": 43,
   "metadata": {},
   "outputs": [
    {
     "data": {
      "text/plain": [
       "16"
      ]
     },
     "execution_count": 43,
     "metadata": {},
     "output_type": "execute_result"
    }
   ],
   "source": [
    "s=lambda a: a*a\n",
    "s(4)"
   ]
  },
  {
   "cell_type": "code",
   "execution_count": 44,
   "metadata": {},
   "outputs": [
    {
     "data": {
      "text/plain": [
       "40"
      ]
     },
     "execution_count": 44,
     "metadata": {},
     "output_type": "execute_result"
    }
   ],
   "source": [
    "# 3x+4y\n",
    "d=lambda x,y: 3*x+4*y\n",
    "d(4,7)"
   ]
  },
  {
   "cell_type": "markdown",
   "metadata": {},
   "source": [
    "### Quadratic equations"
   ]
  },
  {
   "cell_type": "code",
   "execution_count": 45,
   "metadata": {},
   "outputs": [
    {
     "data": {
      "text/plain": [
       "36"
      ]
     },
     "execution_count": 45,
     "metadata": {},
     "output_type": "execute_result"
    }
   ],
   "source": [
    "# (a+b)^2\n",
    "x=lambda a,b: (a+b)**2\n",
    "x(4,2) # 6^2=36"
   ]
  },
  {
   "cell_type": "markdown",
   "metadata": {},
   "source": [
    "# Map(), filter() and reduce()"
   ]
  },
  {
   "cell_type": "markdown",
   "metadata": {},
   "source": [
    "map()- Applies a given fuction to all iterables and returns a new lis"
   ]
  },
  {
   "cell_type": "markdown",
   "metadata": {},
   "source": [
    "filter()- Creates an output list consisting of values for which the function returns true\n",
    "\n",
    "reduce() - Applies a given function to the desirable and returns a single value"
   ]
  },
  {
   "cell_type": "markdown",
   "metadata": {},
   "source": [
    "## Map()"
   ]
  },
  {
   "cell_type": "markdown",
   "metadata": {},
   "source": [
    "Syntax: map(funtion, iterables)"
   ]
  },
  {
   "cell_type": "code",
   "execution_count": 48,
   "metadata": {},
   "outputs": [
    {
     "name": "stdout",
     "output_type": "stream",
     "text": [
      "<map object at 0x7f46b4650ad0>\n",
      "[1, 4, 9, 16]\n"
     ]
    }
   ],
   "source": [
    "def new(a):\n",
    "    return a*a\n",
    "x=map(new,[1,2,3,4])\n",
    "print(x)\n",
    "print(list(x)) # The output will be a list"
   ]
  },
  {
   "cell_type": "code",
   "execution_count": 49,
   "metadata": {},
   "outputs": [
    {
     "name": "stdout",
     "output_type": "stream",
     "text": [
      "<map object at 0x7f46b46aed50>\n",
      "(1, 4, 9, 16)\n"
     ]
    }
   ],
   "source": [
    "def new(a):\n",
    "    return a*a\n",
    "x=map(new,[1,2,3,4])\n",
    "print(x)\n",
    "print(tuple(x)) # The output will be a tuple"
   ]
  },
  {
   "cell_type": "code",
   "execution_count": 50,
   "metadata": {},
   "outputs": [
    {
     "name": "stdout",
     "output_type": "stream",
     "text": [
      "<map object at 0x7f46b465a550>\n",
      "{16, 1, 4, 9}\n"
     ]
    }
   ],
   "source": [
    "def new(a):\n",
    "    return a*a\n",
    "x=map(new,[1,2,3,4])\n",
    "print(x)\n",
    "print(set(x)) #The output will be a set"
   ]
  },
  {
   "cell_type": "code",
   "execution_count": 52,
   "metadata": {},
   "outputs": [
    {
     "name": "stdout",
     "output_type": "stream",
     "text": [
      "<map object at 0x7f46b46a37d0>\n",
      "[2, 6, 12, 20]\n"
     ]
    }
   ],
   "source": [
    " def new(a,b):\n",
    "    return a*b\n",
    "x=map(new,[1,2,3,4],[2,3,4,5])\n",
    "print(x)\n",
    "print(list(x))"
   ]
  },
  {
   "cell_type": "code",
   "execution_count": 53,
   "metadata": {},
   "outputs": [
    {
     "name": "stdout",
     "output_type": "stream",
     "text": [
      "[4, 5, 6, 7, 8, 9]\n"
     ]
    }
   ],
   "source": [
    "lst=[1,2,3,4,5,6]\n",
    "y=list(map(lambda x: x+3,lst)) # To add 3 to all the elements in our list ie x+3\n",
    "print(y)"
   ]
  },
  {
   "cell_type": "markdown",
   "metadata": {},
   "source": [
    "## The filter function"
   ]
  },
  {
   "cell_type": "markdown",
   "metadata": {},
   "source": [
    "Used to filter the given iterables list, sets, etc with the help of another function passed as an argument to test all the elements to be true or false"
   ]
  },
  {
   "cell_type": "markdown",
   "metadata": {},
   "source": [
    "Syntax: filter(funtions,iterables)"
   ]
  },
  {
   "cell_type": "code",
   "execution_count": 55,
   "metadata": {},
   "outputs": [
    {
     "name": "stdout",
     "output_type": "stream",
     "text": [
      "<filter object at 0x7f46b4642610>\n"
     ]
    }
   ],
   "source": [
    "# Filtering a user defined function\n",
    "def new(i): \n",
    "    if i>=3:\n",
    "        return i\n",
    "j=filter(new,(1,2,3,4,5,6,7,8,9))\n",
    "print(j)"
   ]
  },
  {
   "cell_type": "code",
   "execution_count": 56,
   "metadata": {},
   "outputs": [
    {
     "name": "stdout",
     "output_type": "stream",
     "text": [
      "(3, 4, 5, 6, 7, 8, 9)\n"
     ]
    }
   ],
   "source": [
    "print(tuple(j))"
   ]
  },
  {
   "cell_type": "code",
   "execution_count": 57,
   "metadata": {},
   "outputs": [
    {
     "name": "stdout",
     "output_type": "stream",
     "text": [
      "[]\n"
     ]
    }
   ],
   "source": [
    "print(list(j))"
   ]
  },
  {
   "cell_type": "code",
   "execution_count": 58,
   "metadata": {},
   "outputs": [
    {
     "name": "stdout",
     "output_type": "stream",
     "text": [
      "<filter object at 0x7f46b4669590>\n"
     ]
    }
   ],
   "source": [
    "# Using filter function in a lambda function\n",
    "z=filter(lambda x: (x>=3),(1,2,3,4,5,6,7,8,9))\n",
    "print(z)"
   ]
  },
  {
   "cell_type": "code",
   "execution_count": 59,
   "metadata": {},
   "outputs": [
    {
     "name": "stdout",
     "output_type": "stream",
     "text": [
      "[3, 4, 5, 6, 7, 8, 9]\n"
     ]
    }
   ],
   "source": [
    "print(list(z))"
   ]
  },
  {
   "cell_type": "code",
   "execution_count": 60,
   "metadata": {},
   "outputs": [
    {
     "name": "stdout",
     "output_type": "stream",
     "text": [
      "set()\n"
     ]
    }
   ],
   "source": [
    "print(set(z))"
   ]
  },
  {
   "cell_type": "code",
   "execution_count": 61,
   "metadata": {},
   "outputs": [
    {
     "name": "stdout",
     "output_type": "stream",
     "text": [
      "{}\n"
     ]
    }
   ],
   "source": [
    "print(dict(z))"
   ]
  },
  {
   "cell_type": "code",
   "execution_count": 62,
   "metadata": {},
   "outputs": [
    {
     "name": "stdout",
     "output_type": "stream",
     "text": [
      "()\n"
     ]
    }
   ],
   "source": [
    "print(tuple(z))"
   ]
  },
  {
   "cell_type": "markdown",
   "metadata": {},
   "source": [
    "## The reduce() function"
   ]
  },
  {
   "cell_type": "markdown",
   "metadata": {},
   "source": [
    "reduce(): Applies some other function to a list of elements that are passed as a parameter to it and finally returns a single value"
   ]
  },
  {
   "cell_type": "markdown",
   "metadata": {},
   "source": [
    "Syntax: reduce(function, iterables)"
   ]
  },
  {
   "cell_type": "code",
   "execution_count": 64,
   "metadata": {},
   "outputs": [
    {
     "name": "stdout",
     "output_type": "stream",
     "text": [
      "45\n"
     ]
    }
   ],
   "source": [
    "from functools import reduce # importing from functools module\n",
    "def a(x,y): # a user defined function\n",
    "    return x+y\n",
    "s=reduce(a,[1,2,3,4,5,6,7,8,9]) # 1+2=3, 3+3=9,...40+5=45\n",
    "print(s)"
   ]
  },
  {
   "cell_type": "code",
   "execution_count": 66,
   "metadata": {},
   "outputs": [
    {
     "data": {
      "text/plain": [
       "362880"
      ]
     },
     "execution_count": 66,
     "metadata": {},
     "output_type": "execute_result"
    }
   ],
   "source": [
    "reduce(lambda q,p: q*p,[1,2,3,4,5,6,7,8,9]) # A lambda function"
   ]
  },
  {
   "cell_type": "markdown",
   "metadata": {},
   "source": [
    "## filter() within map()"
   ]
  },
  {
   "cell_type": "code",
   "execution_count": 2,
   "metadata": {},
   "outputs": [
    {
     "name": "stdout",
     "output_type": "stream",
     "text": [
      "(8, 10)\n"
     ]
    }
   ],
   "source": [
    "#filter out integers >==3 resulting in [3,4] then maps using (x+x) condition.you will get [6,8], as output\n",
    "c=map(lambda x:x+x,filter(lambda x:(x>=4),[2,3,4,5]))\n",
    "print(tuple(c))"
   ]
  },
  {
   "cell_type": "code",
   "execution_count": 1,
   "metadata": {},
   "outputs": [
    {
     "name": "stdout",
     "output_type": "stream",
     "text": [
      "(3, 4)\n"
     ]
    }
   ],
   "source": [
    "x=filter(lambda x: (x>=3), (1,2,3,4))\n",
    "print(tuple(x))"
   ]
  },
  {
   "cell_type": "markdown",
   "metadata": {},
   "source": [
    "## map() within filter()"
   ]
  },
  {
   "cell_type": "code",
   "execution_count": 3,
   "metadata": {},
   "outputs": [
    {
     "name": "stdout",
     "output_type": "stream",
     "text": [
      "{4, 6, 8, 10, 12, 14}\n"
     ]
    }
   ],
   "source": [
    "d=filter(lambda x:(x>=4),map(lambda x: x+x,[2,3,4,5,6,7]))\n",
    "print(set(d))"
   ]
  },
  {
   "cell_type": "markdown",
   "metadata": {},
   "source": [
    "## map() and filter() within reduce()"
   ]
  },
  {
   "cell_type": "code",
   "execution_count": 9,
   "metadata": {},
   "outputs": [
    {
     "name": "stdout",
     "output_type": "stream",
     "text": [
      "20\n"
     ]
    }
   ],
   "source": [
    "from functools import reduce\n",
    "r=reduce(lambda x,y:x+y, map(lambda x:x+x, filter(lambda x: (x<=4),[1,2,3,4,5,6,7])))\n",
    "print(r)"
   ]
  },
  {
   "cell_type": "markdown",
   "metadata": {},
   "source": [
    "# Generators"
   ]
  },
  {
   "cell_type": "markdown",
   "metadata": {},
   "source": [
    "Generators are functions that return traversable objects.\n",
    "\n",
    "They produce items one at a time and only when requred\n",
    "\n",
    "They are run along with for loops"
   ]
  },
  {
   "cell_type": "markdown",
   "metadata": {},
   "source": [
    "Easy to implement (implement_iter()._next_() automatically)\n",
    "\n",
    "Better memory management and utilization\n",
    "\n",
    "Can be used to produce infinite items\n",
    "\n",
    "Can be used to produce a number of operations"
   ]
  },
  {
   "cell_type": "markdown",
   "metadata": {},
   "source": [
    "#### Generators vs normal functions"
   ]
  },
  {
   "cell_type": "markdown",
   "metadata": {},
   "source": [
    "##### Generator functions"
   ]
  },
  {
   "cell_type": "markdown",
   "metadata": {},
   "source": [
    "Make use of 'yield' keyword\n",
    "\n",
    "Run when 'next()' method is called\n",
    "\n",
    "Produce items one at a time only when required"
   ]
  },
  {
   "cell_type": "markdown",
   "metadata": {},
   "source": [
    "##### Normal Functions"
   ]
  },
  {
   "cell_type": "markdown",
   "metadata": {},
   "source": [
    "Make use of 'return' keyword\n",
    "\n",
    "Run when name of method is called\n",
    "\n",
    "Produce all the items at once"
   ]
  },
  {
   "cell_type": "code",
   "execution_count": 14,
   "metadata": {},
   "outputs": [
    {
     "name": "stdout",
     "output_type": "stream",
     "text": [
      "<generator object new at 0x7fded8675d50>\n"
     ]
    },
    {
     "data": {
      "text/plain": [
       "(1, 'Hello')"
      ]
     },
     "execution_count": 14,
     "metadata": {},
     "output_type": "execute_result"
    }
   ],
   "source": [
    "#Writing generators in python\n",
    "def new(dict):\n",
    "    for x,y in dict.items():\n",
    "        yield x,y\n",
    "a={1: \"Hello\",2:\"welcome\"}\n",
    "b=new(a)\n",
    "print(b)\n",
    "next(b)"
   ]
  },
  {
   "cell_type": "code",
   "execution_count": 16,
   "metadata": {},
   "outputs": [
    {
     "ename": "StopIteration",
     "evalue": "",
     "output_type": "error",
     "traceback": [
      "\u001b[0;31m---------------------------------------------------------------------------\u001b[0m",
      "\u001b[0;31mStopIteration\u001b[0m                             Traceback (most recent call last)",
      "\u001b[0;32m<ipython-input-16-3587c5b1af49>\u001b[0m in \u001b[0;36m<module>\u001b[0;34m()\u001b[0m\n\u001b[0;32m----> 1\u001b[0;31m \u001b[0mnext\u001b[0m\u001b[0;34m(\u001b[0m\u001b[0mb\u001b[0m\u001b[0;34m)\u001b[0m \u001b[0;31m# We use next to call generator\u001b[0m\u001b[0;34m\u001b[0m\u001b[0;34m\u001b[0m\u001b[0m\n\u001b[0m",
      "\u001b[0;31mStopIteration\u001b[0m: "
     ]
    }
   ],
   "source": [
    "next(b) # We use next to call generator\n"
   ]
  },
  {
   "cell_type": "code",
   "execution_count": 19,
   "metadata": {},
   "outputs": [
    {
     "data": {
      "text/plain": [
       "2"
      ]
     },
     "execution_count": 19,
     "metadata": {},
     "output_type": "execute_result"
    }
   ],
   "source": [
    "def myfunc(i):\n",
    "    while i<=4:\n",
    "        yield i\n",
    "        i+=1\n",
    "j=myfunc(2)\n",
    "next(j)"
   ]
  },
  {
   "cell_type": "code",
   "execution_count": 20,
   "metadata": {},
   "outputs": [
    {
     "data": {
      "text/plain": [
       "3"
      ]
     },
     "execution_count": 20,
     "metadata": {},
     "output_type": "execute_result"
    }
   ],
   "source": [
    "next(j)"
   ]
  },
  {
   "cell_type": "code",
   "execution_count": 21,
   "metadata": {},
   "outputs": [
    {
     "data": {
      "text/plain": [
       "4"
      ]
     },
     "execution_count": 21,
     "metadata": {},
     "output_type": "execute_result"
    }
   ],
   "source": [
    "next(j)"
   ]
  },
  {
   "cell_type": "code",
   "execution_count": 23,
   "metadata": {},
   "outputs": [
    {
     "data": {
      "text/plain": [
       "3"
      ]
     },
     "execution_count": 23,
     "metadata": {},
     "output_type": "execute_result"
    }
   ],
   "source": [
    "def ex():\n",
    "    n=3\n",
    "    yield n\n",
    "    n=n*n\n",
    "    yield n\n",
    "v=ex()\n",
    "next(v)"
   ]
  },
  {
   "cell_type": "code",
   "execution_count": 24,
   "metadata": {},
   "outputs": [
    {
     "data": {
      "text/plain": [
       "9"
      ]
     },
     "execution_count": 24,
     "metadata": {},
     "output_type": "execute_result"
    }
   ],
   "source": [
    "next(v)"
   ]
  },
  {
   "cell_type": "code",
   "execution_count": 25,
   "metadata": {},
   "outputs": [
    {
     "ename": "StopIteration",
     "evalue": "",
     "output_type": "error",
     "traceback": [
      "\u001b[0;31m---------------------------------------------------------------------------\u001b[0m",
      "\u001b[0;31mStopIteration\u001b[0m                             Traceback (most recent call last)",
      "\u001b[0;32m<ipython-input-25-3c76cce91add>\u001b[0m in \u001b[0;36m<module>\u001b[0;34m()\u001b[0m\n\u001b[0;32m----> 1\u001b[0;31m \u001b[0mnext\u001b[0m\u001b[0;34m(\u001b[0m\u001b[0mv\u001b[0m\u001b[0;34m)\u001b[0m\u001b[0;34m\u001b[0m\u001b[0;34m\u001b[0m\u001b[0m\n\u001b[0m",
      "\u001b[0;31mStopIteration\u001b[0m: "
     ]
    }
   ],
   "source": [
    "next(v)"
   ]
  },
  {
   "cell_type": "markdown",
   "metadata": {},
   "source": [
    "## Generators with loops"
   ]
  },
  {
   "cell_type": "markdown",
   "metadata": {},
   "source": [
    "To execute the generator function at once, you can use 'for' loop. This loop iterates over al the objects and after implementation. It executes StopIteration"
   ]
  },
  {
   "cell_type": "code",
   "execution_count": 26,
   "metadata": {},
   "outputs": [
    {
     "name": "stdout",
     "output_type": "stream",
     "text": [
      "6\n",
      "36\n"
     ]
    }
   ],
   "source": [
    "def ex():\n",
    "    n=6\n",
    "    yield n\n",
    "    n=n*n\n",
    "    yield n\n",
    "v=ex()\n",
    "for x in v:\n",
    "    print(x)"
   ]
  },
  {
   "cell_type": "markdown",
   "metadata": {},
   "source": [
    "## Generator expressions"
   ]
  },
  {
   "cell_type": "markdown",
   "metadata": {},
   "source": [
    "Resemble list comprehensions and like lambda functions, generator espressions create anonymous generator functions"
   ]
  },
  {
   "cell_type": "code",
   "execution_count": 38,
   "metadata": {},
   "outputs": [
    {
     "name": "stdout",
     "output_type": "stream",
     "text": [
      "List comprehension:[2, 3, 4, 5, 6, 7]\n",
      "gen exp:<generator object <genexpr> at 0x7fded862b6d0>\n"
     ]
    }
   ],
   "source": [
    "f=range(6)\n",
    "print(\"List comprehension\", end=\":\")\n",
    "q=[x+2 for x in f] # A list comprehension\n",
    "print(q)\n",
    "print(\"gen exp\", end=\":\")\n",
    "r=(x+2 for x in f)\n",
    "print(r)"
   ]
  },
  {
   "cell_type": "code",
   "execution_count": 29,
   "metadata": {},
   "outputs": [
    {
     "name": "stdout",
     "output_type": "stream",
     "text": [
      "2\n",
      "3\n",
      "4\n",
      "5\n",
      "6\n",
      "7\n"
     ]
    }
   ],
   "source": [
    "for x in r:\n",
    "    print(x)"
   ]
  },
  {
   "cell_type": "code",
   "execution_count": 31,
   "metadata": {},
   "outputs": [
    {
     "name": "stdout",
     "output_type": "stream",
     "text": [
      "gen exp:<generator object <genexpr> at 0x7fded862bcd0>\n",
      "2\n"
     ]
    }
   ],
   "source": [
    "print(\"gen exp\", end=\":\")\n",
    "r=(x+2 for x in f)\n",
    "print(r)\n",
    "print(min(r))"
   ]
  },
  {
   "cell_type": "markdown",
   "metadata": {},
   "source": [
    "## Use case"
   ]
  },
  {
   "cell_type": "markdown",
   "metadata": {},
   "source": [
    "### Fibonacci series"
   ]
  },
  {
   "cell_type": "markdown",
   "metadata": {},
   "source": [
    "A series of numbers where in each number also called Fibonacci number is the sum of the preceding numbers."
   ]
  },
  {
   "cell_type": "code",
   "execution_count": 35,
   "metadata": {},
   "outputs": [
    {
     "name": "stdout",
     "output_type": "stream",
     "text": [
      "0 1 1 2 3 5 8 13 21 34 "
     ]
    }
   ],
   "source": [
    "def fib():\n",
    "    f,s=0,1\n",
    "    while True:\n",
    "        yield f\n",
    "        f,s=s,f+s\n",
    "for x in fib():\n",
    "    if x>50:\n",
    "        break\n",
    "    print(x,end=' ')"
   ]
  },
  {
   "cell_type": "markdown",
   "metadata": {},
   "source": [
    "### Number stream"
   ]
  },
  {
   "cell_type": "markdown",
   "metadata": {},
   "source": [
    "Generating a stream of numbers eg odd or even numbers"
   ]
  },
  {
   "cell_type": "code",
   "execution_count": 39,
   "metadata": {},
   "outputs": [
    {
     "name": "stdout",
     "output_type": "stream",
     "text": [
      "<generator object <genexpr> at 0x7fded862b950>\n",
      "0\n",
      "1\n",
      "2\n",
      "3\n",
      "4\n",
      "5\n",
      "6\n",
      "7\n",
      "8\n",
      "9\n",
      "10\n",
      "11\n",
      "12\n",
      "13\n",
      "14\n",
      "15\n",
      "16\n",
      "17\n",
      "18\n",
      "19\n",
      "20\n",
      "21\n",
      "22\n",
      "23\n",
      "24\n",
      "25\n",
      "26\n",
      "27\n",
      "28\n",
      "29\n",
      "30\n",
      "31\n",
      "32\n",
      "33\n",
      "34\n",
      "35\n",
      "36\n",
      "37\n",
      "38\n",
      "39\n",
      "40\n",
      "41\n",
      "42\n",
      "43\n",
      "44\n",
      "45\n",
      "46\n",
      "47\n",
      "48\n",
      "49\n",
      "50\n",
      "51\n",
      "52\n",
      "53\n",
      "54\n",
      "55\n",
      "56\n",
      "57\n",
      "58\n",
      "59\n",
      "60\n",
      "61\n",
      "62\n",
      "63\n",
      "64\n",
      "65\n",
      "66\n",
      "67\n",
      "68\n",
      "69\n",
      "70\n",
      "71\n",
      "72\n",
      "73\n",
      "74\n",
      "75\n",
      "76\n",
      "77\n",
      "78\n",
      "79\n",
      "80\n",
      "81\n",
      "82\n",
      "83\n",
      "84\n",
      "85\n",
      "86\n",
      "87\n",
      "88\n",
      "89\n",
      "90\n",
      "91\n",
      "92\n",
      "93\n",
      "94\n",
      "95\n",
      "96\n",
      "97\n",
      "98\n",
      "99\n"
     ]
    }
   ],
   "source": [
    "a=range(100)\n",
    "b=(x for x in a)\n",
    "print(b)\n",
    "for y in b:\n",
    "    print(y)"
   ]
  },
  {
   "cell_type": "code",
   "execution_count": 40,
   "metadata": {},
   "outputs": [
    {
     "name": "stdout",
     "output_type": "stream",
     "text": [
      "<generator object <genexpr> at 0x7fded862bcd0>\n",
      "2\n",
      "4\n",
      "6\n",
      "8\n",
      "10\n",
      "12\n",
      "14\n",
      "16\n",
      "18\n",
      "20\n",
      "22\n",
      "24\n",
      "26\n",
      "28\n",
      "30\n",
      "32\n",
      "34\n",
      "36\n",
      "38\n",
      "40\n",
      "42\n",
      "44\n",
      "46\n",
      "48\n",
      "50\n",
      "52\n",
      "54\n",
      "56\n",
      "58\n",
      "60\n",
      "62\n",
      "64\n",
      "66\n",
      "68\n",
      "70\n",
      "72\n",
      "74\n",
      "76\n",
      "78\n",
      "80\n",
      "82\n",
      "84\n",
      "86\n",
      "88\n",
      "90\n",
      "92\n",
      "94\n",
      "96\n",
      "98\n"
     ]
    }
   ],
   "source": [
    "a=range(2,100,2)\n",
    "b=(x for x in a)\n",
    "print(b)\n",
    "for y in b:\n",
    "    print(y)"
   ]
  },
  {
   "cell_type": "code",
   "execution_count": 41,
   "metadata": {},
   "outputs": [
    {
     "name": "stdout",
     "output_type": "stream",
     "text": [
      "<generator object <genexpr> at 0x7fded862b1d0>\n",
      "1\n",
      "3\n",
      "5\n",
      "7\n",
      "9\n",
      "11\n",
      "13\n",
      "15\n",
      "17\n",
      "19\n",
      "21\n",
      "23\n",
      "25\n",
      "27\n",
      "29\n",
      "31\n",
      "33\n",
      "35\n",
      "37\n",
      "39\n",
      "41\n",
      "43\n",
      "45\n",
      "47\n",
      "49\n",
      "51\n",
      "53\n",
      "55\n",
      "57\n",
      "59\n",
      "61\n",
      "63\n",
      "65\n",
      "67\n",
      "69\n",
      "71\n",
      "73\n",
      "75\n",
      "77\n",
      "79\n",
      "81\n",
      "83\n",
      "85\n",
      "87\n",
      "89\n",
      "91\n",
      "93\n",
      "95\n",
      "97\n",
      "99\n"
     ]
    }
   ],
   "source": [
    "a=range(1,100,2)\n",
    "b=(x for x in a)\n",
    "print(b)\n",
    "for y in b:\n",
    "    print(y)"
   ]
  },
  {
   "cell_type": "markdown",
   "metadata": {},
   "source": [
    "## Generating sinewave"
   ]
  },
  {
   "cell_type": "markdown",
   "metadata": {},
   "source": [
    "Generating sinewave using seaborn"
   ]
  },
  {
   "cell_type": "code",
   "execution_count": 4,
   "metadata": {},
   "outputs": [
    {
     "data": {
      "image/png": "[encoded data removed]",
      "text/plain": [
       "<Figure size 432x288 with 1 Axes>"
      ]
     },
     "metadata": {},
     "output_type": "display_data"
    }
   ],
   "source": [
    "# Using normal functions\n",
    "import numpy as np\n",
    "from matplotlib import pyplot as plt\n",
    "import seaborn as sb\n",
    "def s(flip = 2):\n",
    "    x = np.linspace(0,14,100)\n",
    "    for i in range(1, 5):\n",
    "        plt.plot(x, np.sin(x * i * .5)*(7 - i) * flip)\n",
    "sb.set()\n",
    "s()\n",
    "plt.show()"
   ]
  },
  {
   "cell_type": "code",
   "execution_count": 3,
   "metadata": {},
   "outputs": [
    {
     "name": "stdout",
     "output_type": "stream",
     "text": [
      "[<matplotlib.lines.Line2D object at 0x7f17179d87d0>]\n"
     ]
    },
    {
     "data": {
      "image/png": "[encoded data removed]",
      "text/plain": [
       "<Figure size 432x288 with 1 Axes>"
      ]
     },
     "metadata": {},
     "output_type": "display_data"
    }
   ],
   "source": [
    "# Using generator functions\n",
    "import numpy as np\n",
    "from matplotlib import pyplot as plt\n",
    "import seaborn as sb\n",
    "def s(flip = 2):\n",
    "    x = np.linspace(0, 14, 100)\n",
    "    for i in range(1, 10):\n",
    "        yield(plt.plot(x, np.sin(x * i * .5)*(7 -i)* flip))\n",
    "sb.set()\n",
    "s=s()\n",
    "plt.show()\n",
    "\n",
    "print(next(s))"
   ]
  },
  {
   "cell_type": "code",
   "execution_count": 6,
   "metadata": {},
   "outputs": [
    {
     "name": "stdout",
     "output_type": "stream",
     "text": [
      "[<matplotlib.lines.Line2D object at 0x7f1717841ad0>]\n",
      "[<matplotlib.lines.Line2D object at 0x7f17178f20d0>]\n",
      "[<matplotlib.lines.Line2D object at 0x7f1717841f50>]\n"
     ]
    },
    {
     "data": {
      "image/png": "[encoded data removed]",
      "text/plain": [
       "<Figure size 432x288 with 1 Axes>"
      ]
     },
     "metadata": {},
     "output_type": "display_data"
    }
   ],
   "source": [
    "# Using generator functions\n",
    "import numpy as np\n",
    "from matplotlib import pyplot as plt\n",
    "import seaborn as sb\n",
    "def s(flip = 2):\n",
    "    x = np.linspace(0, 14, 100)\n",
    "    for i in range(1, 10):\n",
    "        yield(plt.plot(x, np.sin(x * i * .5)*(7 -i)* flip))\n",
    "sb.set()\n",
    "s=s()\n",
    "plt.show()\n",
    "\n",
    "print(next(s))\n",
    "print(next(s))\n",
    "print(next(s)) # To print two waves"
   ]
  },
  {
   "cell_type": "code",
   "execution_count": null,
   "metadata": {},
   "outputs": [],
   "source": []
  }
 ],
 "metadata": {
  "kernelspec": {
   "display_name": "Python 3",
   "language": "python",
   "name": "python3"
  },
  "language_info": {
   "codemirror_mode": {
    "name": "ipython",
    "version": 3
   },
   "file_extension": ".py",
   "mimetype": "text/x-python",
   "name": "python",
   "nbconvert_exporter": "python",
   "pygments_lexer": "ipython3",
   "version": "3.7.4"
  }
 },
 "nbformat": 4,
 "nbformat_minor": 4
}
