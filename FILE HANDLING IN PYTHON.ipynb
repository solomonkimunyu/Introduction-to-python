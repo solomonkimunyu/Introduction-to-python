{
 "cells": [
  {
   "cell_type": "code",
   "execution_count": 2,
   "metadata": {},
   "outputs": [],
   "source": [
    "# The key function while working with files in python is the open() function\n",
    "# The syntax is open(filename.mode)\n",
    "# \"r\"-Read- Default value opens a file for reading error if the file does not exist\n",
    "# \"a\"-Append- opens a file for appending. Creates the file if the file does not exist\n",
    "# \"w\"-Write-opens a file for writing. Creates a file if it doesn't exist\n",
    "# \"x\"- Create the specified. Returns an error if the file doesn't exist\n",
    "# In addition you can specify if the file should be handed as binary or text\n",
    "# \"t\"-Text-Default value text mode\n",
    "# \"b\"-Binary-Binary mode (eg. images)\n",
    "import os\n",
    "file = open('demofile.txt')"
   ]
  },
  {
   "cell_type": "code",
   "execution_count": 14,
   "metadata": {},
   "outputs": [],
   "source": [
    "file1 = open(\"G:/codes/NOTEPAD/demofile.txt\",\"w\")"
   ]
  },
  {
   "cell_type": "code",
   "execution_count": 6,
   "metadata": {},
   "outputs": [
    {
     "name": "stdout",
     "output_type": "stream",
     "text": [
      "God is good\n",
      "All the time\n",
      "He has loved us so much\n",
      "\n",
      "[]\n"
     ]
    }
   ],
   "source": [
    "file1 = open('G:/codes/NOTEPAD/demo.txt','a')\n",
    "print(file1.read())\n",
    "print(file1.readline()) # Line by line output\n",
    "print(file1.readline(2)) # Read the second line\n",
    "\n",
    "print(file1.readlines()) # Read lines separately"
   ]
  },
  {
   "cell_type": "code",
   "execution_count": 7,
   "metadata": {},
   "outputs": [
    {
     "name": "stdout",
     "output_type": "stream",
     "text": [
      "\n"
     ]
    }
   ],
   "source": [
    "print(file1.read())\n"
   ]
  },
  {
   "cell_type": "code",
   "execution_count": 9,
   "metadata": {},
   "outputs": [
    {
     "name": "stdout",
     "output_type": "stream",
     "text": [
      "God is good\n",
      "\n"
     ]
    }
   ],
   "source": [
    "file = open('G:/codes/NOTEPAD/demo.txt')\n",
    "print(file.readline())\n"
   ]
  },
  {
   "cell_type": "code",
   "execution_count": 10,
   "metadata": {
    "scrolled": true
   },
   "outputs": [
    {
     "name": "stdout",
     "output_type": "stream",
     "text": [
      "God\n"
     ]
    }
   ],
   "source": [
    "file2 = open('G:/codes/NOTEPAD/demo.txt')\n",
    "print(file2.readline(3))\n"
   ]
  },
  {
   "cell_type": "code",
   "execution_count": 11,
   "metadata": {},
   "outputs": [
    {
     "name": "stdout",
     "output_type": "stream",
     "text": [
      "['property \\tSale y \\tLand  value (X1) \\n', '1 \\t68900 \\t5960 \\t44967 \\t1873 \\n', '2 \\t48500 \\t9000 \\t27860 \\t928 \\n', '3 \\t55500 \\t9500 \\t31439 \\t1126 \\n', '4 \\t62000 \\t10000 \\t39592 \\t1265 \\n', '5 \\t116500 \\t18000 \\t72872 \\t2214 \\n', '6 \\t45000 \\t8500 \\t27317 \\t912 \\n', '7 \\t38000 \\t8000 \\t29856 \\t899 \\n', '8 \\t83000 \\t23000 \\t47752 \\t1803 \\n']\n"
     ]
    }
   ],
   "source": [
    "file1 = open('G:/codes/NOTEPAD/assignment sta 316.txt')\n",
    "print(file1.readlines())"
   ]
  },
  {
   "cell_type": "code",
   "execution_count": 12,
   "metadata": {},
   "outputs": [
    {
     "name": "stdout",
     "output_type": "stream",
     "text": [
      "\n"
     ]
    }
   ],
   "source": [
    "print(file1.readline(2)) # Read the second line\n"
   ]
  },
  {
   "cell_type": "code",
   "execution_count": 13,
   "metadata": {},
   "outputs": [
    {
     "name": "stdout",
     "output_type": "stream",
     "text": [
      "pro\n"
     ]
    }
   ],
   "source": [
    "file2 = open('G:/codes/NOTEPAD/assignment sta 316.txt','r')\n",
    "print(file2.readline(3))"
   ]
  },
  {
   "cell_type": "markdown",
   "metadata": {},
   "source": [
    "# Looping over a file object"
   ]
  },
  {
   "cell_type": "code",
   "execution_count": 16,
   "metadata": {},
   "outputs": [],
   "source": [
    "# Fast and efficient\n",
    "#  file=open(\"testfile.txt\", \"r\") \n",
    "# for inline in file:\n",
    "# print(file.readline())\n",
    "file1 = open('G:/codes/NOTEPAD/demo.txt','r')\n",
    "for inline in file:\n",
    "    print(file1.readlines())\n"
   ]
  },
  {
   "cell_type": "markdown",
   "metadata": {},
   "source": [
    "## File write method"
   ]
  },
  {
   "cell_type": "code",
   "execution_count": 19,
   "metadata": {},
   "outputs": [
    {
     "data": {
      "text/plain": [
       "23"
      ]
     },
     "execution_count": 19,
     "metadata": {},
     "output_type": "execute_result"
    }
   ],
   "source": [
    "# To write into the existing function, you must add a parameter to open() function\n",
    "# \"a\"-append will appned to the end of the file\n",
    "# \"w\"-Write will overwrite to any existing content\n",
    "# \"w\" will delete everything and then overwrite\n",
    "import os\n",
    "file = open('G:/codes/NOTEPAD/demo.txt','w')\n",
    "file.write(\"Be baptized\")\n",
    "file.write(\"For forgiveness of sins\")\n",
    "file.close()\n",
    "# Check on notepad and you will see it has overwritten the file\n"
   ]
  },
  {
   "cell_type": "code",
   "execution_count": 21,
   "metadata": {},
   "outputs": [
    {
     "data": {
      "text/plain": [
       "23"
      ]
     },
     "execution_count": 21,
     "metadata": {},
     "output_type": "execute_result"
    }
   ],
   "source": [
    "file = open('G:/codes/NOTEPAD/demo.txt','w')\n",
    "file.write(\"Acts chapter 2 verse 38\")"
   ]
  },
  {
   "cell_type": "code",
   "execution_count": 25,
   "metadata": {
    "scrolled": true
   },
   "outputs": [],
   "source": [
    "file = open('G:/codes/NOTEPAD/how to be saved.txt','x')\n",
    "file.write(\"Repent and be baptized each and evryone of you for forgiveness of sins and tou will receive the gift of the holy spirit\")\n",
    "file.close()"
   ]
  },
  {
   "cell_type": "markdown",
   "metadata": {},
   "source": [
    "## Creating a new file"
   ]
  },
  {
   "cell_type": "code",
   "execution_count": 26,
   "metadata": {},
   "outputs": [],
   "source": [
    "# To create a new file in python, use the open() method with one of the following parameters\n",
    "# \"x\"- Create- will create a file, returns an error if the file exists\n",
    "# \"a\" - Append- will create a file if the specified file does not exist\n",
    "# \"w\" - Write- will create a file if the specified file does not exist\n",
    "file = open('G:/codes/NOTEPAD/saved.txt','a')\n",
    "file.write(\"Repent and be baptized each and evryone of you for forgiveness of sins and tou will receive the gift of the holy spirit\")\n",
    "file.close()"
   ]
  },
  {
   "cell_type": "markdown",
   "metadata": {},
   "source": [
    "## Deleting a file"
   ]
  },
  {
   "cell_type": "code",
   "execution_count": 30,
   "metadata": {},
   "outputs": [
    {
     "ename": "FileNotFoundError",
     "evalue": "[WinError 2] The system cannot find the file specified: 'demo.txt'",
     "output_type": "error",
     "traceback": [
      "\u001b[1;31m---------------------------------------------------------------------------\u001b[0m",
      "\u001b[1;31mFileNotFoundError\u001b[0m                         Traceback (most recent call last)",
      "\u001b[1;32m<ipython-input-30-bcd5e63148ae>\u001b[0m in \u001b[0;36m<module>\u001b[1;34m\u001b[0m\n\u001b[0;32m      1\u001b[0m \u001b[1;31m# os.remove() fuction\u001b[0m\u001b[1;33m\u001b[0m\u001b[1;33m\u001b[0m\u001b[1;33m\u001b[0m\u001b[0m\n\u001b[0;32m      2\u001b[0m \u001b[1;32mimport\u001b[0m \u001b[0mos\u001b[0m\u001b[1;33m\u001b[0m\u001b[1;33m\u001b[0m\u001b[0m\n\u001b[1;32m----> 3\u001b[1;33m \u001b[0mos\u001b[0m\u001b[1;33m.\u001b[0m\u001b[0mremove\u001b[0m\u001b[1;33m(\u001b[0m\u001b[1;34m\"demo.txt\"\u001b[0m\u001b[1;33m)\u001b[0m \u001b[1;31m# To delete a file, you must import the OS module, and run its os remove() fuction.\u001b[0m\u001b[1;33m\u001b[0m\u001b[1;33m\u001b[0m\u001b[0m\n\u001b[0m\u001b[0;32m      4\u001b[0m \u001b[1;32mif\u001b[0m \u001b[0mos\u001b[0m\u001b[1;33m.\u001b[0m\u001b[0mpath\u001b[0m\u001b[1;33m.\u001b[0m\u001b[0mexists\u001b[0m\u001b[1;33m(\u001b[0m\u001b[1;34m\"demo.txt\"\u001b[0m\u001b[1;33m)\u001b[0m\u001b[1;33m:\u001b[0m\u001b[1;33m\u001b[0m\u001b[1;33m\u001b[0m\u001b[0m\n\u001b[0;32m      5\u001b[0m     \u001b[0mos\u001b[0m\u001b[1;33m.\u001b[0m\u001b[0mremove\u001b[0m\u001b[1;33m(\u001b[0m\u001b[1;34m\"demo.txt\"\u001b[0m\u001b[1;33m)\u001b[0m\u001b[1;33m\u001b[0m\u001b[1;33m\u001b[0m\u001b[0m\n",
      "\u001b[1;31mFileNotFoundError\u001b[0m: [WinError 2] The system cannot find the file specified: 'demo.txt'"
     ]
    }
   ],
   "source": [
    "# os.remove() fuction\n",
    "import os\n",
    "os.remove(\"demo.txt\") # To delete a file, you must import the OS module, and run its os remove() fuction.\n",
    "if os.path.exists(\"demo.txt\"):\n",
    "    os.remove(\"demo.txt\")\n",
    "else:\n",
    "    print(\"The file does not exist\")# Check if the file exists\n",
    "# To delete a folder os.rmdir() fuction\n",
    "os.rmdir(\"myfolder\")\n"
   ]
  },
  {
   "cell_type": "markdown",
   "metadata": {},
   "source": [
    "# "
   ]
  }
 ],
 "metadata": {
  "kernelspec": {
   "display_name": "Python 3",
   "language": "python",
   "name": "python3"
  },
  "language_info": {
   "codemirror_mode": {
    "name": "ipython",
    "version": 3
   },
   "file_extension": ".py",
   "mimetype": "text/x-python",
   "name": "python",
   "nbconvert_exporter": "python",
   "pygments_lexer": "ipython3",
   "version": "3.7.4"
  }
 },
 "nbformat": 4,
 "nbformat_minor": 4
}
